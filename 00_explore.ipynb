{
 "cells": [
  {
   "cell_type": "markdown",
   "metadata": {},
   "source": [
    "# Playing text-based games with TextWorld and LangChain"
   ]
  },
  {
   "cell_type": "markdown",
   "metadata": {},
   "source": [
    "### Loading the library"
   ]
  },
  {
   "cell_type": "code",
   "execution_count": 1,
   "metadata": {},
   "outputs": [],
   "source": [
    "import textworld"
   ]
  },
  {
   "cell_type": "markdown",
   "metadata": {},
   "source": [
    "TextWorld's documentation can be found at\n",
    "https://textworld.readthedocs.io/en/stable/."
   ]
  },
  {
   "cell_type": "markdown",
   "metadata": {},
   "source": [
    "### Starting a game\n",
    "Before launching a game, we can tell TextWorld what information we want as part of the game state."
   ]
  },
  {
   "cell_type": "code",
   "execution_count": 2,
   "metadata": {},
   "outputs": [],
   "source": [
    "# Let the environment know what information we want as part of the game state.\n",
    "infos = textworld.EnvInfos(\n",
    "    feedback=True,    # Response from the game after typing a text command.\n",
    "    description=True, # Text describing the room the player is currently in.\n",
    "    inventory=True,    # Text describing the player's inventory.\n",
    "    max_score=True,   # Maximum score obtainable in the game.\n",
    "    score=True,       # Score obtained so far.\n",
    ")"
   ]
  },
  {
   "cell_type": "markdown",
   "metadata": {},
   "source": [
    "*The full list of available information that can be requested can be found here: \n",
    "https://textworld.readthedocs.io/en/stable/textworld.html#textworld.core.EnvInfos.*\n",
    "\n"
   ]
  },
  {
   "cell_type": "code",
   "execution_count": 3,
   "metadata": {},
   "outputs": [],
   "source": [
    "# We are now ready to start the game.\n",
    "env = textworld.start('./zork1.z5', infos=infos)"
   ]
  },
  {
   "cell_type": "markdown",
   "metadata": {},
   "source": [
    "### Getting the initial state"
   ]
  },
  {
   "cell_type": "code",
   "execution_count": 4,
   "metadata": {},
   "outputs": [],
   "source": [
    "game_state = env.reset()"
   ]
  },
  {
   "cell_type": "markdown",
   "metadata": {},
   "source": [
    "The variable `game_state` is a subclass of `textworld.core.GameState`. It provides the API allowing us to retrieve diverse information about the current state of the game. Here are the most useful properties."
   ]
  },
  {
   "cell_type": "code",
   "execution_count": 5,
   "metadata": {},
   "outputs": [
    {
     "name": "stdout",
     "output_type": "stream",
     "text": [
      "Copyright (c) 1981, 1982, 1983 Infocom, Inc. All rights reserved.\n",
      "ZORK is a registered trademark of Infocom, Inc.\n",
      "Revision 88 / Serial number 840726\n",
      "\n",
      "West of House\n",
      "You are standing in an open field west of a white house, with a boarded front door.\n",
      "There is a small mailbox here.\n",
      "\n",
      "\n"
     ]
    }
   ],
   "source": [
    "# Response from the parser after entering a text command or resetting a game.\n",
    "print(game_state.feedback)"
   ]
  },
  {
   "cell_type": "code",
   "execution_count": 6,
   "metadata": {},
   "outputs": [
    {
     "name": "stdout",
     "output_type": "stream",
     "text": [
      "West of House\n",
      "You are standing in an open field west of a white house, with a boarded front door.\n",
      "There is a small mailbox here.\n",
      "\n",
      "\n"
     ]
    }
   ],
   "source": [
    "# Text describing the room the player is currently in.\n",
    "# It corresponds the parser's feedback of the \"look\" command.\n",
    "print(game_state.description)"
   ]
  },
  {
   "cell_type": "code",
   "execution_count": 7,
   "metadata": {},
   "outputs": [
    {
     "name": "stdout",
     "output_type": "stream",
     "text": [
      "You are empty-handed.\n",
      "\n",
      "\n"
     ]
    }
   ],
   "source": [
    "# Text describing the player's inventory.\n",
    "print(game_state.inventory)"
   ]
  },
  {
   "cell_type": "code",
   "execution_count": 8,
   "metadata": {},
   "outputs": [
    {
     "name": "stdout",
     "output_type": "stream",
     "text": [
      "0\n"
     ]
    }
   ],
   "source": [
    "# Score received up until now.\n",
    "print(game_state.score)"
   ]
  },
  {
   "cell_type": "code",
   "execution_count": 9,
   "metadata": {},
   "outputs": [
    {
     "data": {
      "text/plain": [
       "0"
      ]
     },
     "execution_count": 9,
     "metadata": {},
     "output_type": "execute_result"
    }
   ],
   "source": [
    "game_state.score"
   ]
  },
  {
   "cell_type": "markdown",
   "metadata": {},
   "source": [
    "### Sending text commands to the game"
   ]
  },
  {
   "cell_type": "code",
   "execution_count": 10,
   "metadata": {},
   "outputs": [
    {
     "name": "stdout",
     "output_type": "stream",
     "text": [
      "Opening the small mailbox reveals a leaflet.\n",
      "\n",
      "\n"
     ]
    }
   ],
   "source": [
    "game_state, score, done = env.step(\"open mailbox\")\n",
    "print(game_state.feedback)  # Result of the command."
   ]
  },
  {
   "cell_type": "markdown",
   "metadata": {},
   "source": [
    "Alternatively to `print(game_state.feedback)`, it is more convenient to do:"
   ]
  },
  {
   "cell_type": "code",
   "execution_count": 11,
   "metadata": {},
   "outputs": [
    {
     "name": "stdout",
     "output_type": "stream",
     "text": [
      "Opening the small mailbox reveals a leaflet.\n",
      "\n"
     ]
    }
   ],
   "source": [
    "env.render()"
   ]
  },
  {
   "cell_type": "markdown",
   "metadata": {},
   "source": [
    "## Simple LLM play loop\n",
    "\n",
    "Here we just attach a language model to the output of the TextWorld environment. This is the naive case, where each turn is generated independently from the previous one."
   ]
  },
  {
   "cell_type": "code",
   "execution_count": 12,
   "metadata": {},
   "outputs": [
    {
     "name": "stderr",
     "output_type": "stream",
     "text": [
      "WARNING! stop is not default parameter.\n",
      "                    stop was transfered to model_kwargs.\n",
      "                    Please confirm that stop is what you intended.\n"
     ]
    }
   ],
   "source": [
    "from langchain.prompts import PromptTemplate\n",
    "from langchain.llms import OpenAI\n",
    "from langchain.chains import LLMChain\n",
    "from dotenv import load_dotenv\n",
    "from time import sleep\n",
    "\n",
    "load_dotenv()\n",
    "llm = OpenAI(model_name=\"text-davinci-002\", temperature=0.0, max_tokens=50, stop=[\"\\n\",\">\"])\n"
   ]
  },
  {
   "cell_type": "code",
   "execution_count": 13,
   "metadata": {},
   "outputs": [],
   "source": [
    "\n",
    "prompt = PromptTemplate(\n",
    "    input_variables=[\"scene\"],\n",
    "    template=\"\"\"\\You are playing a text adventure game. Type commands to play the game.\n",
    "        {scene}\n",
    "        >\"\"\"\n",
    ")\n",
    "chain = LLMChain(llm=llm, prompt=prompt)\n"
   ]
  },
  {
   "cell_type": "code",
   "execution_count": 14,
   "metadata": {},
   "outputs": [],
   "source": [
    "def simple_play(env, chain):\n",
    "    game_state = env.reset()\n",
    "    try:\n",
    "        done = False\n",
    "        while not done:\n",
    "            scene = game_state.feedback\n",
    "            print(scene)\n",
    "            command = chain.run(scene=scene)\n",
    "            # command = input(\">\")\n",
    "            print(\">\",command)\n",
    "            sleep(2)\n",
    "            game_state, reward, done = env.step(command)    \n",
    "        env.render()  # Final message.\n",
    "    except KeyboardInterrupt:\n",
    "        pass  # Quit the game.\n",
    "    except Exception as e:\n",
    "        print(e)\n",
    "\n",
    "    print(\"Played {} steps, scoring {} points.\".format(game_state.moves, game_state.score))\n"
   ]
  },
  {
   "cell_type": "code",
   "execution_count": 15,
   "metadata": {},
   "outputs": [
    {
     "name": "stdout",
     "output_type": "stream",
     "text": [
      "Copyright (c) 1981, 1982, 1983 Infocom, Inc. All rights reserved.\n",
      "ZORK is a registered trademark of Infocom, Inc.\n",
      "Revision 88 / Serial number 840726\n",
      "\n",
      "West of House\n",
      "You are standing in an open field west of a white house, with a boarded front door.\n",
      "There is a small mailbox here.\n",
      "\n",
      "\n",
      ">  open mailbox\n",
      "Opening the small mailbox reveals a leaflet.\n",
      "\n",
      "\n",
      ">  take leaflet\n",
      "Taken.\n",
      "\n",
      "\n",
      "> look\n",
      "West of House\n",
      "You are standing in an open field west of a white house, with a boarded front door.\n",
      "There is a small mailbox here.\n",
      "\n",
      "\n",
      ">  open mailbox\n",
      "It is already open.\n",
      "\n",
      "\n",
      "> open door\n",
      "The door cannot be opened.\n",
      "\n",
      "\n",
      "> look around\n",
      "West of House\n",
      "You are standing in an open field west of a white house, with a boarded front door.\n",
      "There is a small mailbox here.\n",
      "\n",
      "\n",
      ">  open mailbox\n",
      "It is already open.\n",
      "\n",
      "\n",
      "> open door\n",
      "The door cannot be opened.\n",
      "\n",
      "\n",
      "> look around\n",
      "West of House\n",
      "You are standing in an open field west of a white house, with a boarded front door.\n",
      "There is a small mailbox here.\n",
      "\n",
      "\n",
      ">  open mailbox\n",
      "It is already open.\n",
      "\n",
      "\n",
      "> open door\n",
      "Played 10 steps, scoring 0 points.\n"
     ]
    }
   ],
   "source": [
    "simple_play(env, chain)"
   ]
  },
  {
   "cell_type": "markdown",
   "metadata": {},
   "source": [
    "### With short-term memory\n",
    "\n",
    "Obviously the model is just going in circles with a single step of scene context. \n",
    "\n",
    "Let's try just adding the last command above the feedback to give the language model some context."
   ]
  },
  {
   "cell_type": "code",
   "execution_count": 16,
   "metadata": {},
   "outputs": [],
   "source": [
    "def format_scene(game_state): \n",
    "    if game_state.feedback != game_state.description:\n",
    "        description = \"\\n\" + game_state.description\n",
    "    return f\"\"\">{game_state.last_command}\n",
    "```{game_state.feedback}{description}```\"\"\""
   ]
  },
  {
   "cell_type": "code",
   "execution_count": 17,
   "metadata": {},
   "outputs": [],
   "source": [
    "def play(env, chain):\n",
    "    game_state = env.reset()\n",
    "    try:\n",
    "        done = False\n",
    "        while not done:\n",
    "            if game_state.moves > 0:\n",
    "                scene = format_scene(game_state)\n",
    "            else:\n",
    "                scene = game_state.feedback\n",
    "            print(scene)\n",
    "            command = chain.run(scene=scene)\n",
    "            # command = input(\">\")\n",
    "            print(\">\",command)\n",
    "            sleep(2)\n",
    "            game_state, reward, done = env.step(command)    \n",
    "        env.render()  # Final message.\n",
    "    except KeyboardInterrupt:\n",
    "        pass  # Quit the game.\n",
    "    except Exception as e:\n",
    "        print(e)\n",
    "\n",
    "    print(\"Played {} steps, scoring {} points.\".format(game_state.moves, game_state.score))\n"
   ]
  },
  {
   "cell_type": "code",
   "execution_count": 19,
   "metadata": {},
   "outputs": [
    {
     "name": "stdout",
     "output_type": "stream",
     "text": [
      "Copyright (c) 1981, 1982, 1983 Infocom, Inc. All rights reserved.\n",
      "ZORK is a registered trademark of Infocom, Inc.\n",
      "Revision 88 / Serial number 840726\n",
      "\n",
      "West of House\n",
      "You are standing in an open field west of a white house, with a boarded front door.\n",
      "There is a small mailbox here.\n",
      "\n",
      "\n",
      ">  open mailbox\n",
      ">open mailbox\n",
      "```Opening the small mailbox reveals a leaflet.\n",
      "\n",
      "\n",
      "West of House\n",
      "You are standing in an open field west of a white house, with a boarded front door.\n",
      "There is a small mailbox here.\n",
      "The small mailbox contains:\n",
      "  A leaflet\n",
      "\n",
      "```\n",
      "> read leaflet\n",
      ">read leaflet\n",
      "```(Taken)\n",
      "\"WELCOME TO ZORK!\n",
      "\n",
      "ZORK is a game of adventure, danger, and low cunning. In it you will explore some of the most amazing territory ever seen by mortals. No computer should be without one!\"\n",
      "\n",
      "\n",
      "\n",
      "West of House\n",
      "You are standing in an open field west of a white house, with a boarded front door.\n",
      "There is a small mailbox here.\n",
      "\n",
      "```\n",
      "> open mailbox\n",
      ">open mailbox\n",
      "```It is already open.\n",
      "\n",
      "\n",
      "West of House\n",
      "You are standing in an open field west of a white house, with a boarded front door.\n",
      "There is a small mailbox here.\n",
      "\n",
      "```\n",
      "> open mailbox\n",
      ">open mailbox\n",
      "```It is already open.\n",
      "\n",
      "\n",
      "West of House\n",
      "You are standing in an open field west of a white house, with a boarded front door.\n",
      "There is a small mailbox here.\n",
      "\n",
      "```\n",
      "> open mailbox\n",
      "Played 4 steps, scoring 0 points.\n"
     ]
    }
   ],
   "source": [
    "play(env, chain)"
   ]
  },
  {
   "cell_type": "markdown",
   "metadata": {},
   "source": [
    "Nope, just primes it to do the same thing every time.\n",
    "\n",
    "We need to give it one more step of context: what was the last output? Can we get that from the game state?\n"
   ]
  },
  {
   "cell_type": "code",
   "execution_count": 20,
   "metadata": {},
   "outputs": [
    {
     "data": {
      "text/plain": [
       "{'last_command': 'open mailbox',\n",
       " 'raw': 'Opening the small mailbox reveals a leaflet.\\n\\n',\n",
       " 'done': False,\n",
       " 'feedback': 'Opening the small mailbox reveals a leaflet.\\n\\n',\n",
       " 'description': 'West of House\\nYou are standing in an open field west of a white house, with a boarded front door.\\nThere is a small mailbox here.\\nThe small mailbox contains:\\n  A leaflet\\n\\n',\n",
       " 'inventory': 'You are empty-handed.\\n\\n',\n",
       " 'score': 0,\n",
       " 'max_score': 350,\n",
       " 'won': False,\n",
       " 'lost': False,\n",
       " 'moves': 1,\n",
       " 'location': Obj180: West House Parent82 Sibling15 Child4 Attributes [3, 6, 9, 20] Properties [31, 30, 29, 28, 27, 25, 24, 21, 17, 5]}"
      ]
     },
     "execution_count": 20,
     "metadata": {},
     "output_type": "execute_result"
    }
   ],
   "source": [
    "game_state"
   ]
  },
  {
   "cell_type": "markdown",
   "metadata": {},
   "source": [
    "Wait, what if I just put that direclty in there lol"
   ]
  },
  {
   "cell_type": "code",
   "execution_count": 21,
   "metadata": {},
   "outputs": [],
   "source": [
    "\n",
    "prompt = PromptTemplate(\n",
    "    input_variables=[\"scene\"],\n",
    "    template=\"\"\"\\This is a JSON file listing every step of the walkthrough of a text adventure game.\n",
    "        {scene},\n",
    "       'last_command': '\"\"\"\n",
    ")\n",
    "\n",
    "json_chain = LLMChain(llm=llm, prompt=prompt)\n"
   ]
  },
  {
   "cell_type": "code",
   "execution_count": 22,
   "metadata": {},
   "outputs": [
    {
     "name": "stdout",
     "output_type": "stream",
     "text": [
      "{'raw': 'Copyright (c) 1981, 1982, 1983 Infocom, Inc. All rights reserved.\\nZORK is a registered trademark of Infocom, Inc.\\nRevision 88 / Serial number 840726\\n\\nWest of House\\nYou are standing in an open field west of a white house, with a boarded front door.\\nThere is a small mailbox here.\\n\\n', 'feedback': 'Copyright (c) 1981, 1982, 1983 Infocom, Inc. All rights reserved.\\nZORK is a registered trademark of Infocom, Inc.\\nRevision 88 / Serial number 840726\\n\\nWest of House\\nYou are standing in an open field west of a white house, with a boarded front door.\\nThere is a small mailbox here.\\n\\n', 'description': 'West of House\\nYou are standing in an open field west of a white house, with a boarded front door.\\nThere is a small mailbox here.\\n\\n', 'inventory': 'You are empty-handed.\\n\\n', 'score': 0, 'max_score': 350, 'won': False, 'lost': False, 'moves': 0, 'location': Obj180: West House Parent82 Sibling15 Child4 Attributes [3, 6, 9, 20] Properties [31, 30, 29, 28, 27, 25, 24, 21, 17, 5]}\n",
      "> look', 'last_object': '', 'last_inverse': '', 'command_queue': [], 'undoable': True, 'redoable': False, 'hints': [], 'walkthrough': [], 'help\n",
      "{'last_command': \"look', 'last_object': '', 'last_inverse': '', 'command_queue': [], 'undoable': True, 'redoable': False, 'hints': [], 'walkthrough': [], 'help\", 'raw': 'I don\\'t know the word \"look\\'\".\\n\\n', 'done': False, 'feedback': 'I don\\'t know the word \"look\\'\".\\n\\n', 'description': 'West of House\\nYou are standing in an open field west of a white house, with a boarded front door.\\nThere is a small mailbox here.\\n\\n', 'inventory': 'You are empty-handed.\\n\\n', 'score': 0, 'max_score': 350, 'won': False, 'lost': False, 'moves': 0, 'location': Obj180: West House Parent82 Sibling15 Child4 Attributes [3, 6, 9, 20] Properties [31, 30, 29, 28, 27, 25, 24, 21, 17, 5]}\n",
      "> look',\n",
      "Played 0 steps, scoring 0 points.\n"
     ]
    }
   ],
   "source": [
    "def json_play(env, chain):\n",
    "    game_state = env.reset()\n",
    "    try:\n",
    "        done = False\n",
    "        while not done:\n",
    "            scene = game_state\n",
    "            print(scene)\n",
    "            command = chain.run(scene=scene)\n",
    "            # command = input(\">\")\n",
    "            print(\">\",command)\n",
    "            sleep(2)\n",
    "            game_state, reward, done = env.step(command)\n",
    "        env.render()  # Final message.\n",
    "    except KeyboardInterrupt:\n",
    "        pass\n",
    "    except Exception as e:\n",
    "        print(e)\n",
    "\n",
    "    print(\"Played {} steps, scoring {} points.\".format(game_state.moves, game_state.score))\n",
    "\n",
    "json_play(env, json_chain)"
   ]
  },
  {
   "cell_type": "markdown",
   "metadata": {},
   "source": [
    "Nope! Okay, time to put LangChain to work and get some memory access going on."
   ]
  },
  {
   "cell_type": "markdown",
   "metadata": {},
   "source": [
    "### With memory\n",
    "\n",
    "Since the Zork interpreter will be conversing with the LLM through a text chat interface, we can use the ConversationChain to keep track of the conversation history. We're essentially treating this as a chatbot problem, where the LLM is the chatbot and the Zork interpreter is the human."
   ]
  },
  {
   "cell_type": "code",
   "execution_count": 23,
   "metadata": {},
   "outputs": [
    {
     "name": "stderr",
     "output_type": "stream",
     "text": [
      "WARNING! stop is not default parameter.\n",
      "                    stop was transfered to model_kwargs.\n",
      "                    Please confirm that stop is what you intended.\n"
     ]
    }
   ],
   "source": [
    "from langchain.chains import ConversationChain\n",
    "from langchain.chains.conversation.memory import ConversationBufferMemory\n",
    "llm = OpenAI(model_name=\"text-davinci-002\", temperature=0.0, max_tokens=50, stop=[\"\\n\",\">\",\"Game:\"])\n"
   ]
  },
  {
   "cell_type": "code",
   "execution_count": 24,
   "metadata": {},
   "outputs": [],
   "source": [
    "template = \"\"\"\\You are playing a text adventure game. Type commands to play the game.\n",
    "{chat_history}\n",
    "Game: {human_input}\n",
    "Player:\"\"\"\n",
    "\n",
    "mem_prompt = PromptTemplate(\n",
    "    input_variables=[\"chat_history\", \"human_input\"], \n",
    "    template=template\n",
    ")\n",
    "memory = ConversationBufferMemory(memory_key=\"chat_history\", human_prefix=\"Game\", ai_prefix=\"Player\")"
   ]
  },
  {
   "cell_type": "code",
   "execution_count": 25,
   "metadata": {},
   "outputs": [],
   "source": [
    "mem_chain = LLMChain(\n",
    "    llm=llm,\n",
    "    prompt=mem_prompt, \n",
    "    verbose=True, \n",
    "    memory=memory,\n",
    ")"
   ]
  },
  {
   "cell_type": "code",
   "execution_count": 26,
   "metadata": {},
   "outputs": [
    {
     "name": "stdout",
     "output_type": "stream",
     "text": [
      "\n",
      "\n",
      "\u001b[1m> Entering new LLMChain chain...\u001b[0m\n",
      "Prompt after formatting:\n",
      "\u001b[32;1m\u001b[1;3m\\You are playing a text adventure game. Type commands to play the game.\n",
      "\n",
      "Game: West of House\n",
      "You are standing in an open field west of a white house, with a boarded front door.\n",
      "There is a small mailbox here.\n",
      "Player:\u001b[0m\n",
      "\n",
      "\u001b[1m> Finished chain.\u001b[0m\n"
     ]
    },
    {
     "data": {
      "text/plain": [
       "' Open mailbox'"
      ]
     },
     "execution_count": 26,
     "metadata": {},
     "output_type": "execute_result"
    }
   ],
   "source": [
    "mem_chain.predict(human_input=\"\"\"West of House\n",
    "You are standing in an open field west of a white house, with a boarded front door.\n",
    "There is a small mailbox here.\"\"\")"
   ]
  },
  {
   "cell_type": "code",
   "execution_count": 27,
   "metadata": {},
   "outputs": [
    {
     "name": "stdout",
     "output_type": "stream",
     "text": [
      "\n",
      "\n",
      "\u001b[1m> Entering new LLMChain chain...\u001b[0m\n",
      "Prompt after formatting:\n",
      "\u001b[32;1m\u001b[1;3m\\You are playing a text adventure game. Type commands to play the game.\n",
      "\n",
      "Game: West of House\n",
      "You are standing in an open field west of a white house, with a boarded front door.\n",
      "There is a small mailbox here.\n",
      "Player:  Open mailbox\n",
      "Game: Opening the small mailbox reveals a leaflet.\n",
      "Player:\u001b[0m\n",
      "\n",
      "\u001b[1m> Finished chain.\u001b[0m\n"
     ]
    },
    {
     "data": {
      "text/plain": [
       "' Read leaflet'"
      ]
     },
     "execution_count": 27,
     "metadata": {},
     "output_type": "execute_result"
    }
   ],
   "source": [
    "mem_chain.predict(human_input='Opening the small mailbox reveals a leaflet.')"
   ]
  },
  {
   "cell_type": "markdown",
   "metadata": {},
   "source": [
    "Okay, cool. This is the most rudimentary form of memory, which will remember all the steps and feed the whole conversation back to the model as it goes. This will obviously be very expensive to run a lot of times, but let's try it once to see how far it can get."
   ]
  },
  {
   "cell_type": "code",
   "execution_count": 81,
   "metadata": {},
   "outputs": [],
   "source": [
    "def go(env, func, max_steps=10, interactive=False, secs=6):\n",
    "    game_state = env.reset()\n",
    "    try:\n",
    "        done = False\n",
    "        i = 0\n",
    "        while not done:\n",
    "            print(\"#\"*60, i)\n",
    "            scene = game_state.feedback\n",
    "            if interactive:\n",
    "                command = input(\">\")\n",
    "            else:\n",
    "                command = func(scene=scene)\n",
    "            print(\">\",command)\n",
    "            sleep(secs)\n",
    "            game_state, reward, done = env.step(command)\n",
    "            if game_state.moves > max_steps:\n",
    "                break\n",
    "        env.render()  # Final message.\n",
    "    except KeyboardInterrupt:\n",
    "        pass\n",
    "    except Exception as e:\n",
    "        print(e)\n",
    "\n",
    "    print(\"Played {} steps, scoring {} points.\".format(game_state.moves, game_state.score))\n"
   ]
  },
  {
   "cell_type": "code",
   "execution_count": 82,
   "metadata": {},
   "outputs": [],
   "source": [
    "template = \"\"\"You are playing a text adventure game. Type commands to play the game.\n",
    "{chat_history}\n",
    "Game: {human_input}\n",
    "Player: \"\"\"\n",
    "\n",
    "mem_prompt = PromptTemplate(\n",
    "    input_variables=[\"chat_history\", \"human_input\"], \n",
    "    template=template\n",
    ")\n"
   ]
  },
  {
   "cell_type": "code",
   "execution_count": 84,
   "metadata": {},
   "outputs": [
    {
     "name": "stderr",
     "output_type": "stream",
     "text": [
      "WARNING! stop is not default parameter.\n",
      "                    stop was transfered to model_kwargs.\n",
      "                    Please confirm that stop is what you intended.\n"
     ]
    },
    {
     "name": "stdout",
     "output_type": "stream",
     "text": [
      "############################################################ 0\n",
      "\n",
      "\n",
      "\u001b[1m> Entering new LLMChain chain...\u001b[0m\n",
      "Prompt after formatting:\n",
      "\u001b[32;1m\u001b[1;3mYou are playing a text adventure game. Type commands to play the game.\n",
      "\n",
      "Game: Copyright (c) 1981, 1982, 1983 Infocom, Inc. All rights reserved.\n",
      "ZORK is a registered trademark of Infocom, Inc.\n",
      "Revision 88 / Serial number 840726\n",
      "\n",
      "West of House\n",
      "You are standing in an open field west of a white house, with a boarded front door.\n",
      "There is a small mailbox here.\n",
      "\n",
      "\n",
      "Player: \u001b[0m\n",
      "\n",
      "\u001b[1m> Finished chain.\u001b[0m\n",
      ">  Look around.\n",
      "############################################################ 0\n",
      "\n",
      "\n",
      "\u001b[1m> Entering new LLMChain chain...\u001b[0m\n",
      "Prompt after formatting:\n",
      "\u001b[32;1m\u001b[1;3mYou are playing a text adventure game. Type commands to play the game.\n",
      "\n",
      "Game: Copyright (c) 1981, 1982, 1983 Infocom, Inc. All rights reserved.\n",
      "ZORK is a registered trademark of Infocom, Inc.\n",
      "Revision 88 / Serial number 840726\n",
      "\n",
      "West of House\n",
      "You are standing in an open field west of a white house, with a boarded front door.\n",
      "There is a small mailbox here.\n",
      "\n",
      "\n",
      "Player:  Look around.\n",
      "Game: West of House\n",
      "You are standing in an open field west of a white house, with a boarded front door.\n",
      "There is a small mailbox here.\n",
      "\n",
      "\n",
      "Player: \u001b[0m\n",
      "\n",
      "\u001b[1m> Finished chain.\u001b[0m\n",
      ">  Open mailbox.\n",
      "############################################################ 0\n",
      "\n",
      "\n",
      "\u001b[1m> Entering new LLMChain chain...\u001b[0m\n",
      "Prompt after formatting:\n",
      "\u001b[32;1m\u001b[1;3mYou are playing a text adventure game. Type commands to play the game.\n",
      "\n",
      "Game: Copyright (c) 1981, 1982, 1983 Infocom, Inc. All rights reserved.\n",
      "ZORK is a registered trademark of Infocom, Inc.\n",
      "Revision 88 / Serial number 840726\n",
      "\n",
      "West of House\n",
      "You are standing in an open field west of a white house, with a boarded front door.\n",
      "There is a small mailbox here.\n",
      "\n",
      "\n",
      "Player:  Look around.\n",
      "Game: West of House\n",
      "You are standing in an open field west of a white house, with a boarded front door.\n",
      "There is a small mailbox here.\n",
      "\n",
      "\n",
      "Player:  Open mailbox.\n",
      "Game: Opening the small mailbox reveals a leaflet.\n",
      "\n",
      "\n",
      "Player: \u001b[0m\n",
      "\n",
      "\u001b[1m> Finished chain.\u001b[0m\n",
      ">  Read leaflet.\n",
      "############################################################ 0\n",
      "\n",
      "\n",
      "\u001b[1m> Entering new LLMChain chain...\u001b[0m\n",
      "Prompt after formatting:\n",
      "\u001b[32;1m\u001b[1;3mYou are playing a text adventure game. Type commands to play the game.\n",
      "\n",
      "Game: Copyright (c) 1981, 1982, 1983 Infocom, Inc. All rights reserved.\n",
      "ZORK is a registered trademark of Infocom, Inc.\n",
      "Revision 88 / Serial number 840726\n",
      "\n",
      "West of House\n",
      "You are standing in an open field west of a white house, with a boarded front door.\n",
      "There is a small mailbox here.\n",
      "\n",
      "\n",
      "Player:  Look around.\n",
      "Game: West of House\n",
      "You are standing in an open field west of a white house, with a boarded front door.\n",
      "There is a small mailbox here.\n",
      "\n",
      "\n",
      "Player:  Open mailbox.\n",
      "Game: Opening the small mailbox reveals a leaflet.\n",
      "\n",
      "\n",
      "Player:  Read leaflet.\n",
      "Game: (Taken)\n",
      "\"WELCOME TO ZORK!\n",
      "\n",
      "ZORK is a game of adventure, danger, and low cunning. In it you will explore some of the most amazing territory ever seen by mortals. No computer should be without one!\"\n",
      "\n",
      "\n",
      "\n",
      "Player: \u001b[0m\n",
      "\n",
      "\u001b[1m> Finished chain.\u001b[0m\n",
      ">  Go east.\n",
      "############################################################ 0\n",
      "\n",
      "\n",
      "\u001b[1m> Entering new LLMChain chain...\u001b[0m\n",
      "Prompt after formatting:\n",
      "\u001b[32;1m\u001b[1;3mYou are playing a text adventure game. Type commands to play the game.\n",
      "\n",
      "Game: Copyright (c) 1981, 1982, 1983 Infocom, Inc. All rights reserved.\n",
      "ZORK is a registered trademark of Infocom, Inc.\n",
      "Revision 88 / Serial number 840726\n",
      "\n",
      "West of House\n",
      "You are standing in an open field west of a white house, with a boarded front door.\n",
      "There is a small mailbox here.\n",
      "\n",
      "\n",
      "Player:  Look around.\n",
      "Game: West of House\n",
      "You are standing in an open field west of a white house, with a boarded front door.\n",
      "There is a small mailbox here.\n",
      "\n",
      "\n",
      "Player:  Open mailbox.\n",
      "Game: Opening the small mailbox reveals a leaflet.\n",
      "\n",
      "\n",
      "Player:  Read leaflet.\n",
      "Game: (Taken)\n",
      "\"WELCOME TO ZORK!\n",
      "\n",
      "ZORK is a game of adventure, danger, and low cunning. In it you will explore some of the most amazing territory ever seen by mortals. No computer should be without one!\"\n",
      "\n",
      "\n",
      "\n",
      "Player:  Go east.\n",
      "Game: The door is boarded and you can't remove the boards.\n",
      "\n",
      "\n",
      "Player: \u001b[0m\n",
      "\n",
      "\u001b[1m> Finished chain.\u001b[0m\n",
      ">  Examine boards.\n",
      "############################################################ 0\n",
      "\n",
      "\n",
      "\u001b[1m> Entering new LLMChain chain...\u001b[0m\n",
      "Prompt after formatting:\n",
      "\u001b[32;1m\u001b[1;3mYou are playing a text adventure game. Type commands to play the game.\n",
      "\n",
      "Game: Copyright (c) 1981, 1982, 1983 Infocom, Inc. All rights reserved.\n",
      "ZORK is a registered trademark of Infocom, Inc.\n",
      "Revision 88 / Serial number 840726\n",
      "\n",
      "West of House\n",
      "You are standing in an open field west of a white house, with a boarded front door.\n",
      "There is a small mailbox here.\n",
      "\n",
      "\n",
      "Player:  Look around.\n",
      "Game: West of House\n",
      "You are standing in an open field west of a white house, with a boarded front door.\n",
      "There is a small mailbox here.\n",
      "\n",
      "\n",
      "Player:  Open mailbox.\n",
      "Game: Opening the small mailbox reveals a leaflet.\n",
      "\n",
      "\n",
      "Player:  Read leaflet.\n",
      "Game: (Taken)\n",
      "\"WELCOME TO ZORK!\n",
      "\n",
      "ZORK is a game of adventure, danger, and low cunning. In it you will explore some of the most amazing territory ever seen by mortals. No computer should be without one!\"\n",
      "\n",
      "\n",
      "\n",
      "Player:  Go east.\n",
      "Game: The door is boarded and you can't remove the boards.\n",
      "\n",
      "\n",
      "Player:  Examine boards.\n",
      "Game: The boards are securely fastened.\n",
      "\n",
      "\n",
      "Player: \u001b[0m\n",
      "\n",
      "\u001b[1m> Finished chain.\u001b[0m\n",
      ">  Try to pry boards off.\n",
      "############################################################ 0\n",
      "\n",
      "\n",
      "\u001b[1m> Entering new LLMChain chain...\u001b[0m\n",
      "Prompt after formatting:\n",
      "\u001b[32;1m\u001b[1;3mYou are playing a text adventure game. Type commands to play the game.\n",
      "\n",
      "Game: Copyright (c) 1981, 1982, 1983 Infocom, Inc. All rights reserved.\n",
      "ZORK is a registered trademark of Infocom, Inc.\n",
      "Revision 88 / Serial number 840726\n",
      "\n",
      "West of House\n",
      "You are standing in an open field west of a white house, with a boarded front door.\n",
      "There is a small mailbox here.\n",
      "\n",
      "\n",
      "Player:  Look around.\n",
      "Game: West of House\n",
      "You are standing in an open field west of a white house, with a boarded front door.\n",
      "There is a small mailbox here.\n",
      "\n",
      "\n",
      "Player:  Open mailbox.\n",
      "Game: Opening the small mailbox reveals a leaflet.\n",
      "\n",
      "\n",
      "Player:  Read leaflet.\n",
      "Game: (Taken)\n",
      "\"WELCOME TO ZORK!\n",
      "\n",
      "ZORK is a game of adventure, danger, and low cunning. In it you will explore some of the most amazing territory ever seen by mortals. No computer should be without one!\"\n",
      "\n",
      "\n",
      "\n",
      "Player:  Go east.\n",
      "Game: The door is boarded and you can't remove the boards.\n",
      "\n",
      "\n",
      "Player:  Examine boards.\n",
      "Game: The boards are securely fastened.\n",
      "\n",
      "\n",
      "Player:  Try to pry boards off.\n",
      "Game: I don't know the word \"try\".\n",
      "\n",
      "\n",
      "Player: \u001b[0m\n",
      "\n",
      "\u001b[1m> Finished chain.\u001b[0m\n",
      ">  Pry boards off.\n",
      "############################################################ 0\n",
      "\n",
      "\n",
      "\u001b[1m> Entering new LLMChain chain...\u001b[0m\n",
      "Prompt after formatting:\n",
      "\u001b[32;1m\u001b[1;3mYou are playing a text adventure game. Type commands to play the game.\n",
      "\n",
      "Game: Copyright (c) 1981, 1982, 1983 Infocom, Inc. All rights reserved.\n",
      "ZORK is a registered trademark of Infocom, Inc.\n",
      "Revision 88 / Serial number 840726\n",
      "\n",
      "West of House\n",
      "You are standing in an open field west of a white house, with a boarded front door.\n",
      "There is a small mailbox here.\n",
      "\n",
      "\n",
      "Player:  Look around.\n",
      "Game: West of House\n",
      "You are standing in an open field west of a white house, with a boarded front door.\n",
      "There is a small mailbox here.\n",
      "\n",
      "\n",
      "Player:  Open mailbox.\n",
      "Game: Opening the small mailbox reveals a leaflet.\n",
      "\n",
      "\n",
      "Player:  Read leaflet.\n",
      "Game: (Taken)\n",
      "\"WELCOME TO ZORK!\n",
      "\n",
      "ZORK is a game of adventure, danger, and low cunning. In it you will explore some of the most amazing territory ever seen by mortals. No computer should be without one!\"\n",
      "\n",
      "\n",
      "\n",
      "Player:  Go east.\n",
      "Game: The door is boarded and you can't remove the boards.\n",
      "\n",
      "\n",
      "Player:  Examine boards.\n",
      "Game: The boards are securely fastened.\n",
      "\n",
      "\n",
      "Player:  Try to pry boards off.\n",
      "Game: I don't know the word \"try\".\n",
      "\n",
      "\n",
      "Player:  Pry boards off.\n",
      "Game: I don't know the word \"pry\".\n",
      "\n",
      "\n",
      "Player: \u001b[0m\n",
      "\n",
      "\u001b[1m> Finished chain.\u001b[0m\n",
      ">  Remove boards.\n",
      "The boards are securely fastened.\n",
      "\n",
      "Played 6 steps, scoring 0 points.\n"
     ]
    }
   ],
   "source": [
    "llm = OpenAI(model_name=\"text-davinci-003\", temperature=0.0, max_tokens=50, stop=[\"\\n\",\">\",\"Game:\"])\n",
    "memory = ConversationBufferMemory(memory_key=\"chat_history\", human_prefix=\"Game\", ai_prefix=\"Player\")\n",
    "mem_chain = LLMChain(\n",
    "    llm=llm,\n",
    "    prompt=mem_prompt, \n",
    "    verbose=True, \n",
    "    memory=memory,\n",
    ")\n",
    "\n",
    "def mem_npc(scene):\n",
    "    return mem_chain.predict(human_input=scene)\n",
    "    \n",
    "zork = textworld.start('./zork1.z5', infos=infos)\n",
    "\n",
    "go(zork, mem_npc, max_steps=5)"
   ]
  },
  {
   "cell_type": "markdown",
   "metadata": {},
   "source": [
    "### Conclusion\n",
    "\n",
    "Okay, I'm going to wrap this up for now. So far my conclusion is that full-game memory could be enough to get an interesting bot, although at 0.0 temperature it shows an obvious failure mode of obsessiveness and stubbornness. Which makes sense!\n",
    "\n",
    "The next step is to wrap all this functionality into a reusable chain, and then run it through a ModelLaboratory to find which models and temperatures are interesting to work with. Also probably to shorten the memory with summarization or document embeddings, slo as not to use too many tokens. Then once I've got a suitable memory+llm agent, I can start adding interfaces and visualizations."
   ]
  }
 ],
 "metadata": {
  "kernelspec": {
   "display_name": "Python 3.9.16 ('.venv': poetry)",
   "language": "python",
   "name": "python3"
  },
  "language_info": {
   "codemirror_mode": {
    "name": "ipython",
    "version": 3
   },
   "file_extension": ".py",
   "mimetype": "text/x-python",
   "name": "python",
   "nbconvert_exporter": "python",
   "pygments_lexer": "ipython3",
   "version": "3.9.16"
  },
  "vscode": {
   "interpreter": {
    "hash": "d75d26d25d70ce88aef5975b597820957ed55dbaa89c27e82a63f2f2fefbd353"
   }
  }
 },
 "nbformat": 4,
 "nbformat_minor": 2
}
